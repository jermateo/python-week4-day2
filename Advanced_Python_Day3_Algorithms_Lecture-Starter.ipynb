{
 "cells": [
  {
   "cell_type": "markdown",
   "metadata": {},
   "source": [
    "# Classic Algorithms"
   ]
  },
  {
   "cell_type": "markdown",
   "metadata": {},
   "source": [
    "## Tasks Today:\n",
    "\n",
    "1) <b>Intro to Algorithms</b> <br>\n",
    " &nbsp;&nbsp;&nbsp;&nbsp; a) What are algorithms <br>\n",
    " &nbsp;&nbsp;&nbsp;&nbsp; b) Quick Intro to Big-O Notation <br>\n",
    "2) <b>In-Place Algorithms</b> <br>\n",
    " &nbsp;&nbsp;&nbsp;&nbsp; a) Syntax <br>\n",
    " &nbsp;&nbsp;&nbsp;&nbsp; a) Out of Place Algorithm <br>\n",
    " &nbsp;&nbsp;&nbsp;&nbsp; b) In-Class Exercise #1 <br>\n",
    "3) <b>Two Pointers</b> <br>\n",
    "4) <b>Sorting Algorithms</b> <br>\n",
    "5) <b>Merge Sort</b> <br>\n",
    " &nbsp;&nbsp;&nbsp;&nbsp; a) Video on Algorithms <br>\n",
    " &nbsp;&nbsp;&nbsp;&nbsp; b) How it Works <br>\n",
    "6) <b>Exercises</b> <br>\n",
    " &nbsp;&nbsp;&nbsp;&nbsp; a) Exercise #1 - Reverse a List in Place Using an In-Place Algorithm <br>\n",
    " &nbsp;&nbsp;&nbsp;&nbsp; b) Exercise #2 - Find Distinct Words <br>\n",
    " &nbsp;&nbsp;&nbsp;&nbsp; c) Exercise #3 - Write a program to implement a Linear Search Algorithm. <br>"
   ]
  },
  {
   "cell_type": "markdown",
   "metadata": {},
   "source": [
    "## Intro to Algorithms"
   ]
  },
  {
   "cell_type": "markdown",
   "metadata": {},
   "source": [
    "#### What is an algorithm"
   ]
  },
  {
   "cell_type": "markdown",
   "metadata": {},
   "source": [
    "- An algorithm is a set of instructions for solving a problem \n",
    "- Algorithms are used to solve all types of problems such as sorting data and searching for information\n",
    "- Being able to write efficient algorithms is an important part of being a computer programmer"
   ]
  },
  {
   "cell_type": "markdown",
   "metadata": {},
   "source": [
    "#### Quick Intro to Big O Notation"
   ]
  },
  {
   "cell_type": "markdown",
   "metadata": {},
   "source": [
    "Time and space complexity is the measure of how much time a given action(function) will take to solve a problem. In the same fashion, we determine how much a given data structure will need in terms of memory allocation. A problem can have multiple solutions and finding the optimal solution for the problem needs to be analyzed in time and space.\n",
    "<br>\n",
    "See more <a href=\"https://zippy-lan-200.notion.site/Intro-to-Time-Complexity-ae4a9c7dbefb4b9f9351ade7a2b2fa72\">here</a>"
   ]
  },
  {
   "cell_type": "markdown",
   "metadata": {},
   "source": [
    "## In-Place Algorithms"
   ]
  },
  {
   "cell_type": "markdown",
   "metadata": {},
   "source": [
    "#### Syntax"
   ]
  },
  {
   "cell_type": "code",
   "execution_count": 16,
   "metadata": {},
   "outputs": [],
   "source": [
    "my_list = [1, 2, 3, 4, 5, 6]"
   ]
  },
  {
   "cell_type": "code",
   "execution_count": 17,
   "metadata": {},
   "outputs": [
    {
     "name": "stdout",
     "output_type": "stream",
     "text": [
      "[6, 2, 3, 4, 5, 1]\n"
     ]
    }
   ],
   "source": [
    "def swap(a_list, index1, index2):\n",
    "    temp = a_list[index1]\n",
    "    a_list[index1] = a_list[index2]\n",
    "    a_list[index2] = temp\n",
    "    return a_list\n",
    "\n",
    "swap(my_list, 0, 5)\n",
    "swap([5,10,15,20,25,30], 1, 3)\n",
    "print(my_list)"
   ]
  },
  {
   "cell_type": "code",
   "execution_count": 6,
   "metadata": {},
   "outputs": [
    {
     "data": {
      "text/plain": [
       "[10, 40, 30, 20, 50]"
      ]
     },
     "execution_count": 6,
     "metadata": {},
     "output_type": "execute_result"
    }
   ],
   "source": [
    "my_list = [10,20,30,40,50]\n",
    "def swap(a_list, index1, index2):\n",
    "    a_list[index1], a_list[index2] = a_list[index2], a_list[index1]\n",
    "    return a_list\n",
    "\n",
    "swap(my_list, 1, 3)"
   ]
  },
  {
   "cell_type": "code",
   "execution_count": 5,
   "metadata": {},
   "outputs": [
    {
     "name": "stdout",
     "output_type": "stream",
     "text": [
      "[6, 2, 3, 4, 5, 1]\n"
     ]
    }
   ],
   "source": [
    "print(my_list)"
   ]
  },
  {
   "cell_type": "markdown",
   "metadata": {},
   "source": [
    "#### Out of Place Algorithm"
   ]
  },
  {
   "cell_type": "code",
   "execution_count": 7,
   "metadata": {
    "scrolled": true
   },
   "outputs": [],
   "source": [
    "def out_of_place_swap(a_list, index1, index2):\n",
    "    new_list = a_list[:] # Copy of list\n",
    "    new_list[index1] = a_list[index2]\n",
    "    new_list[index2] = a_list[index1]\n",
    "    return new_list"
   ]
  },
  {
   "cell_type": "code",
   "execution_count": 8,
   "metadata": {},
   "outputs": [
    {
     "name": "stdout",
     "output_type": "stream",
     "text": [
      "Before: ['a', 'b', 'c', 'd', 'e', 'f', 'g']\n",
      "After: ['a', 'b', 'c', 'd', 'e', 'f', 'g']\n",
      "New List A: ['a', 'e', 'c', 'd', 'b', 'f', 'g']\n"
     ]
    }
   ],
   "source": [
    "list_a = ['a', 'b', 'c', 'd', 'e', 'f', 'g']\n",
    "print(f\"Before: {list_a}\")\n",
    "new_list_a = out_of_place_swap(list_a, 1, 4)\n",
    "print(f\"After: {list_a}\")\n",
    "print(f\"New List A: {new_list_a}\")"
   ]
  },
  {
   "cell_type": "code",
   "execution_count": 10,
   "metadata": {
    "scrolled": true
   },
   "outputs": [
    {
     "name": "stdout",
     "output_type": "stream",
     "text": [
      "Before: ['a', 'b', 'c', 'd', 'e', 'f', 'g']\n",
      "After: ['a', 'e', 'c', 'd', 'b', 'f', 'g']\n",
      "New List A: ['a', 'e', 'c', 'd', 'b', 'f', 'g']\n"
     ]
    }
   ],
   "source": [
    "list_a = ['a', 'b', 'c', 'd', 'e', 'f', 'g']\n",
    "print(f\"Before: {list_a}\")\n",
    "new_list_a = swap(list_a, 1, 4)\n",
    "print(f\"After: {list_a}\")\n",
    "print(f\"New List A: {new_list_a}\")"
   ]
  },
  {
   "cell_type": "code",
   "execution_count": 13,
   "metadata": {},
   "outputs": [
    {
     "name": "stdout",
     "output_type": "stream",
     "text": [
      "Before: [32, 54, 12, 45, 78, 23, 25]\n",
      "After: [12, 23, 25, 32, 45, 54, 78]\n",
      "[12, 23, 25, 32, 45, 54, 78]\n"
     ]
    }
   ],
   "source": [
    "unsorted_list = [32, 54, 12, 45, 78, 23, 25]\n",
    "print(f\"Before: {unsorted_list}\")\n",
    "sorted_list = sorted(unsorted_list)\n",
    "print(f\"After: {sorted_list}\")\n",
    "print(sorted_list)"
   ]
  },
  {
   "cell_type": "code",
   "execution_count": 14,
   "metadata": {},
   "outputs": [
    {
     "name": "stdout",
     "output_type": "stream",
     "text": [
      "world\n"
     ]
    }
   ],
   "source": [
    "some_list = ['hello', 'world', 'my', 'name', 'is', 'Brian']\n",
    "some_list[3], b, c = some_list[1], some_list[2], some_list[3]\n",
    "print(some_list[3])"
   ]
  },
  {
   "cell_type": "markdown",
   "metadata": {},
   "source": [
    "#### In-Class Exercise #1 <br>\n",
    "<p>Write a function that takes in four arguments (a_list, index1, index2, index3), and swaps those three positions in the list passed in.</p>"
   ]
  },
  {
   "cell_type": "code",
   "execution_count": 28,
   "metadata": {},
   "outputs": [
    {
     "name": "stdout",
     "output_type": "stream",
     "text": [
      "['a', 'c', 'd', 'b', 'e', 'f', 'g']\n"
     ]
    }
   ],
   "source": [
    "b_list = ['a', 'b', 'c', 'd', 'e', 'f', 'g']\n",
    "def swap_index(a_list, index1, index2, index3):\n",
    "    a_list[index1], a_list[index2], a_list[index3] = a_list[index3], a_list[index1], a_list[index2]\n",
    "    return a_list\n",
    "\n",
    "swap_index(b_list, 1, 3, 2)\n",
    "print(b_list)"
   ]
  },
  {
   "cell_type": "code",
   "execution_count": 29,
   "metadata": {},
   "outputs": [
    {
     "name": "stdout",
     "output_type": "stream",
     "text": [
      "[10, 40, 30, 60, 50, 20]\n"
     ]
    }
   ],
   "source": [
    "# OR\n",
    "def swap(a_list, index1, index2, index3):\n",
    "    temp1 = a_list[index1]\n",
    "    temp2 = a_list[index2]\n",
    "    temp3 = a_list[index3]\n",
    "    a_list[index1] = temp2\n",
    "    a_list[index2] = temp3\n",
    "    a_list[index3] = temp1\n",
    "    \n",
    "my_list = [10, 20, 30, 40, 50, 60]\n",
    "swap(my_list, 1, 3, 5)\n",
    "print(my_list)"
   ]
  },
  {
   "cell_type": "markdown",
   "metadata": {},
   "source": [
    "## Two Pointers"
   ]
  },
  {
   "cell_type": "code",
   "execution_count": 32,
   "metadata": {},
   "outputs": [],
   "source": [
    "def reverse_in_place(a_list):\n",
    "    # Create two pointers to point to the index we are wanting to swap\n",
    "    left = 0 # First element in the list\n",
    "    right = len(a_list) - 1 # Last element in the list\n",
    "    # Continue swapping left and right as long as left is less than right\n",
    "    while left < right:\n",
    "        a_list[left], a_list[right] = a_list[right], a_list[left]\n",
    "        # Increase left pointer\n",
    "        left += 1\n",
    "        # Decreaes right pointer\n",
    "        right -= 1\n",
    "    # Once left is >= right, return list\n",
    "    return a_list"
   ]
  },
  {
   "cell_type": "code",
   "execution_count": 33,
   "metadata": {},
   "outputs": [
    {
     "data": {
      "text/plain": [
       "['H', 'G', 'F', 'E', 'D', 'C', 'B', 'A']"
      ]
     },
     "execution_count": 33,
     "metadata": {},
     "output_type": "execute_result"
    }
   ],
   "source": [
    "abcs = ['A', 'B', 'C', 'D', 'E', 'F', 'G', 'H']\n",
    "\n",
    "reverse_in_place(abcs)"
   ]
  },
  {
   "cell_type": "markdown",
   "metadata": {},
   "source": [
    "#### Syntax"
   ]
  },
  {
   "cell_type": "code",
   "execution_count": 34,
   "metadata": {},
   "outputs": [
    {
     "name": "stdout",
     "output_type": "stream",
     "text": [
      "['H', 'G', 'F', 'E', 'D', 'C', 'B', 'A']\n"
     ]
    }
   ],
   "source": [
    "print(abcs)"
   ]
  },
  {
   "cell_type": "code",
   "execution_count": 35,
   "metadata": {},
   "outputs": [
    {
     "data": {
      "text/plain": [
       "['H', 'G', 'F', 'E', 'D', 'C', 'B', 'A']"
      ]
     },
     "execution_count": 35,
     "metadata": {},
     "output_type": "execute_result"
    }
   ],
   "source": [
    "def reverse_out_place(a_list):\n",
    "    return a_list[::-1]\n",
    "\n",
    "abcs_again = ['A', 'B', 'C', 'D', 'E', 'F', 'G', 'H']\n",
    "\n",
    "reverse_out_place(abcs_again)"
   ]
  },
  {
   "cell_type": "markdown",
   "metadata": {},
   "source": [
    "# Sorting Algorithms"
   ]
  },
  {
   "cell_type": "code",
   "execution_count": 45,
   "metadata": {},
   "outputs": [
    {
     "name": "stdout",
     "output_type": "stream",
     "text": [
      "[84, 5, 21, 59, 45, 17, 29, 48, 97, 23]\n"
     ]
    }
   ],
   "source": [
    "import random\n",
    "list_to_sort = [random.randint(1,100) for _ in range(10)]\n",
    "print(list_to_sort)"
   ]
  },
  {
   "cell_type": "markdown",
   "metadata": {},
   "source": [
    "#### Bubble Sort\n",
    "\n",
    "Worst Case: O(n^2) Time - O(1) Space"
   ]
  },
  {
   "cell_type": "code",
   "execution_count": 46,
   "metadata": {},
   "outputs": [
    {
     "data": {
      "text/plain": [
       "[5, 17, 21, 23, 29, 45, 48, 59, 84, 97]"
      ]
     },
     "execution_count": 46,
     "metadata": {},
     "output_type": "execute_result"
    }
   ],
   "source": [
    "def bubble_sort(lst):\n",
    "    # When we first start, assume list is unsorted\n",
    "    is_sorted = False\n",
    "    # While the list is unsorted, loop through and bubble the largest element to the top\n",
    "    num_sorted = 0\n",
    "    while not is_sorted:\n",
    "        # Begin the for loop with assumption that list is sorted\n",
    "        is_sorted = True\n",
    "        # Starting at 0-index to thend of the list - 1\n",
    "        for idx in range(len(lst) - 1):\n",
    "            # If the list at index idx is greater than the value to its right\n",
    "            if lst[idx] > lst[idx+1]:\n",
    "                # Swap those two values\n",
    "                lst[idx], lst[idx+1] = lst[idx+1], lst[idx]\n",
    "                # If we have to swap, then we know ou rlist is not sorted\n",
    "                is_sorted = False\n",
    "        num_sorted += 1\n",
    "    # Once the list is sorted, return the list\n",
    "    return lst\n",
    "\n",
    "bubble_sort(list_to_sort)"
   ]
  },
  {
   "cell_type": "markdown",
   "metadata": {},
   "source": [
    "##### Insertion Sort\n",
    "\n",
    "Worst Case: O(n^2) time - O(1)space"
   ]
  },
  {
   "cell_type": "code",
   "execution_count": 47,
   "metadata": {},
   "outputs": [
    {
     "name": "stdout",
     "output_type": "stream",
     "text": [
      "[85, 52, 63, 70, 44, 87, 60, 60, 25, 49]\n"
     ]
    }
   ],
   "source": [
    "list_to_sort = [random.randint(1,100) for _ in range(10)]\n",
    "print(list_to_sort)"
   ]
  },
  {
   "cell_type": "code",
   "execution_count": 48,
   "metadata": {},
   "outputs": [
    {
     "data": {
      "text/plain": [
       "[25, 44, 49, 52, 60, 60, 63, 70, 85, 87]"
      ]
     },
     "execution_count": 48,
     "metadata": {},
     "output_type": "execute_result"
    }
   ],
   "source": [
    "def insertion_sort(lst):\n",
    "    # Loop over unordered section (start at 1 because 0 index is sorted)\n",
    "    for i in range(1, len(lst)):\n",
    "        pointer = i\n",
    "        # While not at the front of the list and element to left is less than our element\n",
    "        while pointer > 0 and lst[pointer] < lst[pointer - 1]:\n",
    "            # Swap our element with element to the left\n",
    "            lst[pointer], lst[pointer - 1] = lst[pointer - 1], lst[pointer]\n",
    "            # Move our pointer left one element (to match swap)\n",
    "            pointer -= 1\n",
    "    # After looping through each element in unordered section, return the list\n",
    "    return lst\n",
    "\n",
    "insertion_sort(list_to_sort)"
   ]
  },
  {
   "cell_type": "markdown",
   "metadata": {},
   "source": [
    "## Merge Sort"
   ]
  },
  {
   "cell_type": "markdown",
   "metadata": {},
   "source": [
    "#### How it Works"
   ]
  },
  {
   "cell_type": "code",
   "execution_count": 54,
   "metadata": {},
   "outputs": [
    {
     "name": "stdout",
     "output_type": "stream",
     "text": [
      "[33, 88, 88, 70, 37, 7, 75, 24]\n"
     ]
    }
   ],
   "source": [
    "list_to_sort = [random.randint(1,100) for _ in range(8)]\n",
    "\n",
    "print(list_to_sort)"
   ]
  },
  {
   "cell_type": "code",
   "execution_count": 56,
   "metadata": {},
   "outputs": [
    {
     "name": "stdout",
     "output_type": "stream",
     "text": [
      "Splitting... [33, 88, 88, 70, 37, 7, 75, 24]\n",
      "Splitting... [33, 88, 88, 70]\n",
      "Splitting... [33, 88]\n",
      "Merging... [33]\n",
      "Merging... [88]\n",
      "Merging... [33, 88]\n",
      "Splitting... [88, 70]\n",
      "Merging... [88]\n",
      "Merging... [70]\n",
      "Merging... [70, 88]\n",
      "Merging... [33, 70, 88, 88]\n",
      "Splitting... [37, 7, 75, 24]\n",
      "Splitting... [37, 7]\n",
      "Merging... [37]\n",
      "Merging... [7]\n",
      "Merging... [7, 37]\n",
      "Splitting... [75, 24]\n",
      "Merging... [75]\n",
      "Merging... [24]\n",
      "Merging... [24, 75]\n",
      "Merging... [7, 24, 37, 75]\n",
      "Merging... [7, 24, 33, 37, 70, 75, 88, 88]\n"
     ]
    },
    {
     "data": {
      "text/plain": [
       "[7, 24, 33, 37, 70, 75, 88, 88]"
      ]
     },
     "execution_count": 56,
     "metadata": {},
     "output_type": "execute_result"
    }
   ],
   "source": [
    "def merge_sort(lst):\n",
    "    # If the length of the list is greater than 1\n",
    "    if len(lst) > 1:\n",
    "        # Find midway point\n",
    "        mid = len(lst) // 2\n",
    "        print('Splitting...', lst)\n",
    "        # Split list in half\n",
    "        left_half = lst[:mid]\n",
    "        right_half = lst[mid:]\n",
    "        \n",
    "        # Call merge sort function on left half\n",
    "        merge_sort(left_half)\n",
    "        # Do it on the right\n",
    "        merge_sort(right_half)\n",
    "        \n",
    "        # Index pointers for our list\n",
    "        l = 0 # Pointer for left half list\n",
    "        r = 0 # Pointer for right half list\n",
    "        m = 0 # Pointer for main list\n",
    "        \n",
    "        # While left pointer and right pointer are pointing at valid indices\n",
    "        while l < len(left_half) and r < len(right_half):\n",
    "            if left_half[l] < right_half[r]:\n",
    "                # Add left half value to main list\n",
    "                lst[m] = left_half[l]\n",
    "                # Move left pointer to right once\n",
    "                l += 1\n",
    "            # Otherwise, if right half list value is less than or equal\n",
    "            else:\n",
    "                # Add the right half value to the main list\n",
    "                lst[m] = right_half[r]\n",
    "                # Move the right pointer to the right once\n",
    "                r += 1\n",
    "            # Either way, move main pointer to the right\n",
    "            m += 1\n",
    "        \n",
    "        while l < len(left_half):\n",
    "            lst[m] = left_half[l]\n",
    "            l += 1\n",
    "            m += 1\n",
    "            \n",
    "        while r < len(right_half):\n",
    "            lst[m] = right_half[r]\n",
    "            r += 1\n",
    "            m += 1\n",
    "            \n",
    "    print('Merging...', lst)\n",
    "    return lst\n",
    "\n",
    "merge_sort(list_to_sort)"
   ]
  },
  {
   "cell_type": "code",
   "execution_count": 52,
   "metadata": {},
   "outputs": [
    {
     "data": {
      "text/plain": [
       "50"
      ]
     },
     "execution_count": 52,
     "metadata": {},
     "output_type": "execute_result"
    }
   ],
   "source": [
    "def add_nums(num1, num2):\n",
    "    return num1 + num2\n",
    "\n",
    "def get_perimeter(side1, side2):\n",
    "    result = add_nums(side1, side2)\n",
    "    return result * 2\n",
    "\n",
    "get_perimeter(10, 15)"
   ]
  },
  {
   "cell_type": "code",
   "execution_count": 53,
   "metadata": {},
   "outputs": [
    {
     "data": {
      "text/plain": [
       "120"
      ]
     },
     "execution_count": 53,
     "metadata": {},
     "output_type": "execute_result"
    }
   ],
   "source": [
    "def factorial(num):\n",
    "    if num <= 1:\n",
    "        return 1\n",
    "    else:\n",
    "        return num * factorial(num - 1)\n",
    "\n",
    "factorial(5)"
   ]
  },
  {
   "cell_type": "markdown",
   "metadata": {},
   "source": [
    "# Binary Search\n",
    "\n",
    "The Binary Search algorithm works by finding the number in the middle of a given array and comparing it to the target. **Given that the array is sorted**\n",
    "\n",
    "* The worst case run time for this algorithm is `O(log(n))`"
   ]
  },
  {
   "cell_type": "code",
   "execution_count": 59,
   "metadata": {},
   "outputs": [
    {
     "name": "stdout",
     "output_type": "stream",
     "text": [
      "[7, 24, 33, 37, 70, 75, 88, 88]\n"
     ]
    }
   ],
   "source": [
    "print(list_to_sort)"
   ]
  },
  {
   "cell_type": "code",
   "execution_count": 61,
   "metadata": {},
   "outputs": [
    {
     "data": {
      "text/plain": [
       "'The index for 75 is 5'"
      ]
     },
     "execution_count": 61,
     "metadata": {},
     "output_type": "execute_result"
    }
   ],
   "source": [
    "# Less == Left\n",
    "# Greater == Right\n",
    "# List of numbers MUST be sorted\n",
    "\n",
    "def binary_search(lst, target):\n",
    "    # Set a low and high at each end of the list\n",
    "    low = 0\n",
    "    high = len(lst) - 1\n",
    "    while low <= high:\n",
    "        # Find the midway point between the two\n",
    "        mid = (low + high) // 2\n",
    "        # Check to see if the value at midway point is our target\n",
    "        if lst[mid] == target:\n",
    "            # Success, we found it, return index of target\n",
    "            return f\"The index for {target} is {mid}\"\n",
    "        # But if value at midway point is greater than target\n",
    "        elif lst[mid] > target:\n",
    "            high = mid - 1\n",
    "        # Else if it's less than\n",
    "        else:\n",
    "            low = mid + 1\n",
    "    # If low ever gets higher than high, we know target is not in the list\n",
    "    return -1\n",
    "\n",
    "binary_search(list_to_sort, 75)"
   ]
  },
  {
   "cell_type": "markdown",
   "metadata": {},
   "source": [
    "# Exercises"
   ]
  },
  {
   "cell_type": "markdown",
   "metadata": {},
   "source": [
    "### Exercise #1 <br>\n",
    "<p>Write a function that takes a list of integers and returns the median value</p>"
   ]
  },
  {
   "cell_type": "code",
   "execution_count": 86,
   "metadata": {},
   "outputs": [
    {
     "name": "stdout",
     "output_type": "stream",
     "text": [
      "[42, 96, 30, 6, 45, 2, 75, 52, 16]\n"
     ]
    },
    {
     "data": {
      "text/plain": [
       "42"
      ]
     },
     "execution_count": 86,
     "metadata": {},
     "output_type": "execute_result"
    }
   ],
   "source": [
    "import random\n",
    "random_list = [random.randint(1,100) for _ in range(9)]\n",
    "\n",
    "def median_val(numbers):\n",
    "    is_sorted = False\n",
    "    num_sorted = 0\n",
    "    while not is_sorted:\n",
    "        is_sorted = True\n",
    "        for idx in range(len(numbers) - 1):\n",
    "            if numbers[idx] > numbers[idx+1]:\n",
    "                numbers[idx], numbers[idx+1] = numbers[idx+1], numbers[idx]\n",
    "                is_sorted = False\n",
    "        num_sorted += 1\n",
    "    med = len(numbers) // 2\n",
    "    return numbers[med]\n",
    "\n",
    "print(random_list)\n",
    "median_val(random_list)"
   ]
  },
  {
   "cell_type": "markdown",
   "metadata": {},
   "source": [
    "### Exercise #2 <br>\n",
    "<p>Create a function that counts how many distinct words are in the string below, then outputs a dictionary with the words as the key and the value as the amount of times that word appears in the string.</p>\n",
    "Example Output:<code>{'in': 1, 'computing': 1, 'a': 5, ...}</code>"
   ]
  },
  {
   "cell_type": "code",
   "execution_count": 4,
   "metadata": {},
   "outputs": [
    {
     "name": "stdout",
     "output_type": "stream",
     "text": [
      "{'in': 1, 'computing': 1, 'a': 5, 'hash': 4, 'table': 2, 'map': 2, 'is': 1, 'data': 2, 'structure': 2, 'which': 2, 'implements': 1, 'an': 3, 'associative': 1, 'array': 2, 'abstract': 1, 'type': 1, 'that': 1, 'can': 2, 'keys': 1, 'to': 2, 'values': 1, 'uses': 1, 'function': 1, 'compute': 1, 'index': 1, 'into': 1, 'of': 1, 'buckets': 1, 'or': 1, 'slots': 1, 'from': 1, 'the': 1, 'desired': 1, 'value': 1, 'be': 1, 'found': 1}\n"
     ]
    }
   ],
   "source": [
    "import re\n",
    "\n",
    "a_text = 'In computing, a hash table hash map is a data structure which implements an associative array abstract data type, a structure that can map keys to values. A hash table uses a hash function to compute an index into an array of buckets or slots from which the desired value can be found'\n",
    "# Establish empty dictionary\n",
    "# Split by word (regex?)\n",
    "# Input word to dictionary if not present already, values = 1\n",
    "# If word in dictionary, +=1\n",
    "def word_count(sentence):\n",
    "    word_dict = {}\n",
    "    word_pattern = re.compile('\\w+')\n",
    "    split_words = word_pattern.findall(sentence)\n",
    "    for word in split_words:\n",
    "        if word.lower() not in word_dict:\n",
    "            word_dict[word.lower()] = 1\n",
    "        else:\n",
    "            word_dict[word.lower()] += 1\n",
    "    return word_dict\n",
    "\n",
    "print(word_count(a_text))"
   ]
  },
  {
   "cell_type": "markdown",
   "metadata": {},
   "source": [
    "## Exercise #3\n",
    "\n",
    "Write a function implementing a Linear Search Algorithm. A linear search is a method for finding an element within a list. It sequentially checks each element of the list until a match is found or the whole list has been searched. If you do not find a match, return -1"
   ]
  },
  {
   "cell_type": "code",
   "execution_count": 65,
   "metadata": {},
   "outputs": [
    {
     "name": "stdout",
     "output_type": "stream",
     "text": [
      "[54, 96, 92, 8, 3, 5, 53, 82, 35, 43]\n"
     ]
    }
   ],
   "source": [
    "random_list3 = [random.randint(1,100) for _ in range(10)]\n",
    "print(random_list3)"
   ]
  },
  {
   "cell_type": "code",
   "execution_count": 68,
   "metadata": {},
   "outputs": [
    {
     "name": "stdout",
     "output_type": "stream",
     "text": [
      "What number are you trying to look for? 67\n",
      "-1\n"
     ]
    }
   ],
   "source": [
    "def linear_search(a_list):\n",
    "    userinput = int(input('What number are you trying to look for? '))\n",
    "    for num in a_list:\n",
    "        if num == userinput:\n",
    "            return f\"{userinput} is in the list!\"\n",
    "    return -1\n",
    "\n",
    "print(linear_search(random_list3))"
   ]
  }
 ],
 "metadata": {
  "kernelspec": {
   "display_name": "Python 3 (ipykernel)",
   "language": "python",
   "name": "python3"
  },
  "language_info": {
   "codemirror_mode": {
    "name": "ipython",
    "version": 3
   },
   "file_extension": ".py",
   "mimetype": "text/x-python",
   "name": "python",
   "nbconvert_exporter": "python",
   "pygments_lexer": "ipython3",
   "version": "3.10.9"
  }
 },
 "nbformat": 4,
 "nbformat_minor": 2
}
